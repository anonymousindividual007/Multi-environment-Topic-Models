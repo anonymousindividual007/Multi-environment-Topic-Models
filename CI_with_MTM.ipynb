{
  "nbformat": 4,
  "nbformat_minor": 0,
  "metadata": {
    "colab": {
      "provenance": []
    },
    "kernelspec": {
      "name": "python3",
      "display_name": "Python 3"
    },
    "language_info": {
      "name": "python"
    }
  },
  "cells": [
    {
      "cell_type": "code",
      "source": [
        "!git clone https://github.com/anonymousindividual007/Multi-environment-Topic-Models"
      ],
      "metadata": {
        "colab": {
          "base_uri": "https://localhost:8080/"
        },
        "id": "1HcwgerIiF40",
        "outputId": "3f95a766-a78d-48c9-b9cc-a8c7d237ebae"
      },
      "execution_count": 1,
      "outputs": [
        {
          "output_type": "stream",
          "name": "stdout",
          "text": [
            "Cloning into 'Multi-environment-Topic-Models'...\n",
            "remote: Enumerating objects: 72, done.\u001b[K\n",
            "remote: Counting objects: 100% (72/72), done.\u001b[K\n",
            "remote: Compressing objects: 100% (72/72), done.\u001b[K\n",
            "remote: Total 72 (delta 35), reused 0 (delta 0), pack-reused 0\u001b[K\n",
            "Receiving objects: 100% (72/72), 37.16 MiB | 8.04 MiB/s, done.\n",
            "Resolving deltas: 100% (35/35), done.\n",
            "Updating files: 100% (13/13), done.\n"
          ]
        }
      ]
    },
    {
      "cell_type": "code",
      "execution_count": 2,
      "metadata": {
        "id": "PGAla_frE5jG"
      },
      "outputs": [],
      "source": [
        "import pandas as pd\n",
        "import numpy as np\n",
        "from sklearn.linear_model import LogisticRegression\n",
        "from sklearn.metrics import classification_report\n",
        "import statsmodels.api as sm\n",
        "import zipfile\n",
        "import os"
      ]
    },
    {
      "cell_type": "code",
      "source": [
        "zip_file_path_1 = '/content/Multi-environment-Topic-Models/VTM_train_topic_proportions_lda.csv.zip'\n",
        "csv_file_name_1 = 'VTM_train_topic_proportions_lda.csv'\n",
        "\n",
        "zip_file_path_2 = '/content/Multi-environment-Topic-Models/eatm2_topic_proportions.csv.zip'\n",
        "csv_file_name_2 = 'eatm2_topic_proportions.csv'\n",
        "\n",
        "zip_file_path_3 = '/content/Multi-environment-Topic-Models/ideology_energy_ci.csv.zip'\n",
        "csv_file_name_3 = 'ideology_energy_ci.csv'\n",
        "\n",
        "temp_dir = '/content/temp_dir'\n",
        "\n",
        "if not os.path.exists(temp_dir):\n",
        "    os.makedirs(temp_dir)\n",
        "\n",
        "with zipfile.ZipFile(zip_file_path_1, 'r') as zip_ref:\n",
        "    zip_ref.extract(csv_file_name_1, temp_dir)\n",
        "\n",
        "with zipfile.ZipFile(zip_file_path_2, 'r') as zip_ref:\n",
        "    zip_ref.extract(csv_file_name_2, temp_dir)\n",
        "\n",
        "with zipfile.ZipFile(zip_file_path_3, 'r') as zip_ref:\n",
        "    zip_ref.extract(csv_file_name_3, temp_dir)\n",
        "\n",
        "csv_file_path_1 = os.path.join(temp_dir, csv_file_name_1)\n",
        "csv_file_path_2 = os.path.join(temp_dir, csv_file_name_2)\n",
        "csv_file_path_3 = os.path.join(temp_dir, csv_file_name_3)\n",
        "\n",
        "vtm_topics = pd.read_csv(csv_file_path_1)\n",
        "eatm2_topic = pd.read_csv(csv_file_path_2)\n",
        "data = pd.read_csv(csv_file_path_3)"
      ],
      "metadata": {
        "id": "8fhojo9wNHyr"
      },
      "execution_count": 3,
      "outputs": []
    },
    {
      "cell_type": "code",
      "source": [
        "eatm2_topic = eatm2_topic.drop(columns=['Unnamed: 0'])"
      ],
      "metadata": {
        "id": "0_I4a2HQi7wT"
      },
      "execution_count": 4,
      "outputs": []
    },
    {
      "cell_type": "code",
      "source": [
        "def process_row_eatm2(row):\n",
        "    if row['Topic_28'] == max(row):\n",
        "        return 1\n",
        "    else:\n",
        "        return 0\n",
        "\n",
        "eatm2_topic['binary 28'] = eatm2_topic.apply(process_row_eatm2, axis=1)"
      ],
      "metadata": {
        "id": "ouP6geciUwdS"
      },
      "execution_count": 5,
      "outputs": []
    },
    {
      "cell_type": "code",
      "source": [
        "def process_row_vtm_15(row):\n",
        "    if row['15'] == max(row):\n",
        "        return 1\n",
        "    else:\n",
        "        return 0\n",
        "vtm_topics['binary 15'] = vtm_topics.apply(process_row_vtm_15, axis=1)"
      ],
      "metadata": {
        "id": "0dlmyT8Jktw7"
      },
      "execution_count": 6,
      "outputs": []
    },
    {
      "cell_type": "code",
      "source": [
        "def process_row_vtm(row):\n",
        "    # Calculate the maximum value among all densities\n",
        "    max_value = max(row)\n",
        "    # Check if the maximum value corresponds to either '15' or '21'\n",
        "    if row['15'] == max_value or row['21'] == max_value:\n",
        "        return 1\n",
        "    else:\n",
        "        return 0\n",
        "\n",
        "vtm_topics['binary 15 and 21'] = vtm_topics.apply(process_row_vtm, axis=1)"
      ],
      "metadata": {
        "id": "343l5metukao"
      },
      "execution_count": 7,
      "outputs": []
    },
    {
      "cell_type": "code",
      "source": [
        "# Create an indicator variable for the 'source' column\n",
        "data['source_indicator'] = data['source'].apply(lambda x: 1 if x == 'Republican' else 0)"
      ],
      "metadata": {
        "id": "8Qu4Xm8nZWl-"
      },
      "execution_count": 8,
      "outputs": []
    },
    {
      "cell_type": "code",
      "source": [
        "data"
      ],
      "metadata": {
        "colab": {
          "base_uri": "https://localhost:8080/",
          "height": 424
        },
        "id": "qYDK4TQVZatA",
        "outputId": "d0d9e673-276c-4ca5-a70e-16a8fae8c89e"
      },
      "execution_count": 9,
      "outputs": [
        {
          "output_type": "execute_result",
          "data": {
            "text/plain": [
              "       Unnamed: 0                                               text  \\\n",
              "0               0   One Mark Critts is plenty, but there seems to...   \n",
              "1               1   His name is Matt Shaner. He's a successful bu...   \n",
              "2               2   Me llamo Gabriel Gomez y no soy un poltico. N...   \n",
              "3               3   Mark Begich says, When you think about the wo...   \n",
              "4               4   I'm Joe Heck and I approve this message. John...   \n",
              "...           ...                                                ...   \n",
              "25877       25877   People in Washington think New Mexico is noth...   \n",
              "25878       25878   Governor George Ryan scandal political scanda...   \n",
              "25879       25879  We are veterans. We served our country. World ...   \n",
              "25880       25880   Under George Ryan, the deficit grew to a reco...   \n",
              "25881       25881   When I was in the county legislature, I pushe...   \n",
              "\n",
              "           source  is_energy  source_indicator  \n",
              "0      Republican      False                 1  \n",
              "1      Republican      False                 1  \n",
              "2      Republican      False                 1  \n",
              "3      Republican      False                 1  \n",
              "4      Republican      False                 1  \n",
              "...           ...        ...               ...  \n",
              "25877  Democratic      False                 0  \n",
              "25878  Democratic      False                 0  \n",
              "25879  Democratic      False                 0  \n",
              "25880  Democratic      False                 0  \n",
              "25881  Democratic      False                 0  \n",
              "\n",
              "[25882 rows x 5 columns]"
            ],
            "text/html": [
              "\n",
              "  <div id=\"df-24bc1fb5-eecc-4121-8c56-8179131fa207\" class=\"colab-df-container\">\n",
              "    <div>\n",
              "<style scoped>\n",
              "    .dataframe tbody tr th:only-of-type {\n",
              "        vertical-align: middle;\n",
              "    }\n",
              "\n",
              "    .dataframe tbody tr th {\n",
              "        vertical-align: top;\n",
              "    }\n",
              "\n",
              "    .dataframe thead th {\n",
              "        text-align: right;\n",
              "    }\n",
              "</style>\n",
              "<table border=\"1\" class=\"dataframe\">\n",
              "  <thead>\n",
              "    <tr style=\"text-align: right;\">\n",
              "      <th></th>\n",
              "      <th>Unnamed: 0</th>\n",
              "      <th>text</th>\n",
              "      <th>source</th>\n",
              "      <th>is_energy</th>\n",
              "      <th>source_indicator</th>\n",
              "    </tr>\n",
              "  </thead>\n",
              "  <tbody>\n",
              "    <tr>\n",
              "      <th>0</th>\n",
              "      <td>0</td>\n",
              "      <td>One Mark Critts is plenty, but there seems to...</td>\n",
              "      <td>Republican</td>\n",
              "      <td>False</td>\n",
              "      <td>1</td>\n",
              "    </tr>\n",
              "    <tr>\n",
              "      <th>1</th>\n",
              "      <td>1</td>\n",
              "      <td>His name is Matt Shaner. He's a successful bu...</td>\n",
              "      <td>Republican</td>\n",
              "      <td>False</td>\n",
              "      <td>1</td>\n",
              "    </tr>\n",
              "    <tr>\n",
              "      <th>2</th>\n",
              "      <td>2</td>\n",
              "      <td>Me llamo Gabriel Gomez y no soy un poltico. N...</td>\n",
              "      <td>Republican</td>\n",
              "      <td>False</td>\n",
              "      <td>1</td>\n",
              "    </tr>\n",
              "    <tr>\n",
              "      <th>3</th>\n",
              "      <td>3</td>\n",
              "      <td>Mark Begich says, When you think about the wo...</td>\n",
              "      <td>Republican</td>\n",
              "      <td>False</td>\n",
              "      <td>1</td>\n",
              "    </tr>\n",
              "    <tr>\n",
              "      <th>4</th>\n",
              "      <td>4</td>\n",
              "      <td>I'm Joe Heck and I approve this message. John...</td>\n",
              "      <td>Republican</td>\n",
              "      <td>False</td>\n",
              "      <td>1</td>\n",
              "    </tr>\n",
              "    <tr>\n",
              "      <th>...</th>\n",
              "      <td>...</td>\n",
              "      <td>...</td>\n",
              "      <td>...</td>\n",
              "      <td>...</td>\n",
              "      <td>...</td>\n",
              "    </tr>\n",
              "    <tr>\n",
              "      <th>25877</th>\n",
              "      <td>25877</td>\n",
              "      <td>People in Washington think New Mexico is noth...</td>\n",
              "      <td>Democratic</td>\n",
              "      <td>False</td>\n",
              "      <td>0</td>\n",
              "    </tr>\n",
              "    <tr>\n",
              "      <th>25878</th>\n",
              "      <td>25878</td>\n",
              "      <td>Governor George Ryan scandal political scanda...</td>\n",
              "      <td>Democratic</td>\n",
              "      <td>False</td>\n",
              "      <td>0</td>\n",
              "    </tr>\n",
              "    <tr>\n",
              "      <th>25879</th>\n",
              "      <td>25879</td>\n",
              "      <td>We are veterans. We served our country. World ...</td>\n",
              "      <td>Democratic</td>\n",
              "      <td>False</td>\n",
              "      <td>0</td>\n",
              "    </tr>\n",
              "    <tr>\n",
              "      <th>25880</th>\n",
              "      <td>25880</td>\n",
              "      <td>Under George Ryan, the deficit grew to a reco...</td>\n",
              "      <td>Democratic</td>\n",
              "      <td>False</td>\n",
              "      <td>0</td>\n",
              "    </tr>\n",
              "    <tr>\n",
              "      <th>25881</th>\n",
              "      <td>25881</td>\n",
              "      <td>When I was in the county legislature, I pushe...</td>\n",
              "      <td>Democratic</td>\n",
              "      <td>False</td>\n",
              "      <td>0</td>\n",
              "    </tr>\n",
              "  </tbody>\n",
              "</table>\n",
              "<p>25882 rows × 5 columns</p>\n",
              "</div>\n",
              "    <div class=\"colab-df-buttons\">\n",
              "\n",
              "  <div class=\"colab-df-container\">\n",
              "    <button class=\"colab-df-convert\" onclick=\"convertToInteractive('df-24bc1fb5-eecc-4121-8c56-8179131fa207')\"\n",
              "            title=\"Convert this dataframe to an interactive table.\"\n",
              "            style=\"display:none;\">\n",
              "\n",
              "  <svg xmlns=\"http://www.w3.org/2000/svg\" height=\"24px\" viewBox=\"0 -960 960 960\">\n",
              "    <path d=\"M120-120v-720h720v720H120Zm60-500h600v-160H180v160Zm220 220h160v-160H400v160Zm0 220h160v-160H400v160ZM180-400h160v-160H180v160Zm440 0h160v-160H620v160ZM180-180h160v-160H180v160Zm440 0h160v-160H620v160Z\"/>\n",
              "  </svg>\n",
              "    </button>\n",
              "\n",
              "  <style>\n",
              "    .colab-df-container {\n",
              "      display:flex;\n",
              "      gap: 12px;\n",
              "    }\n",
              "\n",
              "    .colab-df-convert {\n",
              "      background-color: #E8F0FE;\n",
              "      border: none;\n",
              "      border-radius: 50%;\n",
              "      cursor: pointer;\n",
              "      display: none;\n",
              "      fill: #1967D2;\n",
              "      height: 32px;\n",
              "      padding: 0 0 0 0;\n",
              "      width: 32px;\n",
              "    }\n",
              "\n",
              "    .colab-df-convert:hover {\n",
              "      background-color: #E2EBFA;\n",
              "      box-shadow: 0px 1px 2px rgba(60, 64, 67, 0.3), 0px 1px 3px 1px rgba(60, 64, 67, 0.15);\n",
              "      fill: #174EA6;\n",
              "    }\n",
              "\n",
              "    .colab-df-buttons div {\n",
              "      margin-bottom: 4px;\n",
              "    }\n",
              "\n",
              "    [theme=dark] .colab-df-convert {\n",
              "      background-color: #3B4455;\n",
              "      fill: #D2E3FC;\n",
              "    }\n",
              "\n",
              "    [theme=dark] .colab-df-convert:hover {\n",
              "      background-color: #434B5C;\n",
              "      box-shadow: 0px 1px 3px 1px rgba(0, 0, 0, 0.15);\n",
              "      filter: drop-shadow(0px 1px 2px rgba(0, 0, 0, 0.3));\n",
              "      fill: #FFFFFF;\n",
              "    }\n",
              "  </style>\n",
              "\n",
              "    <script>\n",
              "      const buttonEl =\n",
              "        document.querySelector('#df-24bc1fb5-eecc-4121-8c56-8179131fa207 button.colab-df-convert');\n",
              "      buttonEl.style.display =\n",
              "        google.colab.kernel.accessAllowed ? 'block' : 'none';\n",
              "\n",
              "      async function convertToInteractive(key) {\n",
              "        const element = document.querySelector('#df-24bc1fb5-eecc-4121-8c56-8179131fa207');\n",
              "        const dataTable =\n",
              "          await google.colab.kernel.invokeFunction('convertToInteractive',\n",
              "                                                    [key], {});\n",
              "        if (!dataTable) return;\n",
              "\n",
              "        const docLinkHtml = 'Like what you see? Visit the ' +\n",
              "          '<a target=\"_blank\" href=https://colab.research.google.com/notebooks/data_table.ipynb>data table notebook</a>'\n",
              "          + ' to learn more about interactive tables.';\n",
              "        element.innerHTML = '';\n",
              "        dataTable['output_type'] = 'display_data';\n",
              "        await google.colab.output.renderOutput(dataTable, element);\n",
              "        const docLink = document.createElement('div');\n",
              "        docLink.innerHTML = docLinkHtml;\n",
              "        element.appendChild(docLink);\n",
              "      }\n",
              "    </script>\n",
              "  </div>\n",
              "\n",
              "\n",
              "<div id=\"df-dfc5d946-ef51-4e31-8dad-9a72ccd10de2\">\n",
              "  <button class=\"colab-df-quickchart\" onclick=\"quickchart('df-dfc5d946-ef51-4e31-8dad-9a72ccd10de2')\"\n",
              "            title=\"Suggest charts\"\n",
              "            style=\"display:none;\">\n",
              "\n",
              "<svg xmlns=\"http://www.w3.org/2000/svg\" height=\"24px\"viewBox=\"0 0 24 24\"\n",
              "     width=\"24px\">\n",
              "    <g>\n",
              "        <path d=\"M19 3H5c-1.1 0-2 .9-2 2v14c0 1.1.9 2 2 2h14c1.1 0 2-.9 2-2V5c0-1.1-.9-2-2-2zM9 17H7v-7h2v7zm4 0h-2V7h2v10zm4 0h-2v-4h2v4z\"/>\n",
              "    </g>\n",
              "</svg>\n",
              "  </button>\n",
              "\n",
              "<style>\n",
              "  .colab-df-quickchart {\n",
              "      --bg-color: #E8F0FE;\n",
              "      --fill-color: #1967D2;\n",
              "      --hover-bg-color: #E2EBFA;\n",
              "      --hover-fill-color: #174EA6;\n",
              "      --disabled-fill-color: #AAA;\n",
              "      --disabled-bg-color: #DDD;\n",
              "  }\n",
              "\n",
              "  [theme=dark] .colab-df-quickchart {\n",
              "      --bg-color: #3B4455;\n",
              "      --fill-color: #D2E3FC;\n",
              "      --hover-bg-color: #434B5C;\n",
              "      --hover-fill-color: #FFFFFF;\n",
              "      --disabled-bg-color: #3B4455;\n",
              "      --disabled-fill-color: #666;\n",
              "  }\n",
              "\n",
              "  .colab-df-quickchart {\n",
              "    background-color: var(--bg-color);\n",
              "    border: none;\n",
              "    border-radius: 50%;\n",
              "    cursor: pointer;\n",
              "    display: none;\n",
              "    fill: var(--fill-color);\n",
              "    height: 32px;\n",
              "    padding: 0;\n",
              "    width: 32px;\n",
              "  }\n",
              "\n",
              "  .colab-df-quickchart:hover {\n",
              "    background-color: var(--hover-bg-color);\n",
              "    box-shadow: 0 1px 2px rgba(60, 64, 67, 0.3), 0 1px 3px 1px rgba(60, 64, 67, 0.15);\n",
              "    fill: var(--button-hover-fill-color);\n",
              "  }\n",
              "\n",
              "  .colab-df-quickchart-complete:disabled,\n",
              "  .colab-df-quickchart-complete:disabled:hover {\n",
              "    background-color: var(--disabled-bg-color);\n",
              "    fill: var(--disabled-fill-color);\n",
              "    box-shadow: none;\n",
              "  }\n",
              "\n",
              "  .colab-df-spinner {\n",
              "    border: 2px solid var(--fill-color);\n",
              "    border-color: transparent;\n",
              "    border-bottom-color: var(--fill-color);\n",
              "    animation:\n",
              "      spin 1s steps(1) infinite;\n",
              "  }\n",
              "\n",
              "  @keyframes spin {\n",
              "    0% {\n",
              "      border-color: transparent;\n",
              "      border-bottom-color: var(--fill-color);\n",
              "      border-left-color: var(--fill-color);\n",
              "    }\n",
              "    20% {\n",
              "      border-color: transparent;\n",
              "      border-left-color: var(--fill-color);\n",
              "      border-top-color: var(--fill-color);\n",
              "    }\n",
              "    30% {\n",
              "      border-color: transparent;\n",
              "      border-left-color: var(--fill-color);\n",
              "      border-top-color: var(--fill-color);\n",
              "      border-right-color: var(--fill-color);\n",
              "    }\n",
              "    40% {\n",
              "      border-color: transparent;\n",
              "      border-right-color: var(--fill-color);\n",
              "      border-top-color: var(--fill-color);\n",
              "    }\n",
              "    60% {\n",
              "      border-color: transparent;\n",
              "      border-right-color: var(--fill-color);\n",
              "    }\n",
              "    80% {\n",
              "      border-color: transparent;\n",
              "      border-right-color: var(--fill-color);\n",
              "      border-bottom-color: var(--fill-color);\n",
              "    }\n",
              "    90% {\n",
              "      border-color: transparent;\n",
              "      border-bottom-color: var(--fill-color);\n",
              "    }\n",
              "  }\n",
              "</style>\n",
              "\n",
              "  <script>\n",
              "    async function quickchart(key) {\n",
              "      const quickchartButtonEl =\n",
              "        document.querySelector('#' + key + ' button');\n",
              "      quickchartButtonEl.disabled = true;  // To prevent multiple clicks.\n",
              "      quickchartButtonEl.classList.add('colab-df-spinner');\n",
              "      try {\n",
              "        const charts = await google.colab.kernel.invokeFunction(\n",
              "            'suggestCharts', [key], {});\n",
              "      } catch (error) {\n",
              "        console.error('Error during call to suggestCharts:', error);\n",
              "      }\n",
              "      quickchartButtonEl.classList.remove('colab-df-spinner');\n",
              "      quickchartButtonEl.classList.add('colab-df-quickchart-complete');\n",
              "    }\n",
              "    (() => {\n",
              "      let quickchartButtonEl =\n",
              "        document.querySelector('#df-dfc5d946-ef51-4e31-8dad-9a72ccd10de2 button');\n",
              "      quickchartButtonEl.style.display =\n",
              "        google.colab.kernel.accessAllowed ? 'block' : 'none';\n",
              "    })();\n",
              "  </script>\n",
              "</div>\n",
              "    </div>\n",
              "  </div>\n"
            ],
            "application/vnd.google.colaboratory.intrinsic+json": {
              "type": "dataframe",
              "variable_name": "data",
              "summary": "{\n  \"name\": \"data\",\n  \"rows\": 25882,\n  \"fields\": [\n    {\n      \"column\": \"Unnamed: 0\",\n      \"properties\": {\n        \"dtype\": \"number\",\n        \"std\": 7471,\n        \"min\": 0,\n        \"max\": 25881,\n        \"num_unique_values\": 25882,\n        \"samples\": [\n          21859,\n          2119,\n          10244\n        ],\n        \"semantic_type\": \"\",\n        \"description\": \"\"\n      }\n    },\n    {\n      \"column\": \"text\",\n      \"properties\": {\n        \"dtype\": \"string\",\n        \"num_unique_values\": 25881,\n        \"samples\": [\n          \" The daughter of a steel worker and a homemaker, Christine Jennings worked her way from bank teller to bank president, helping many hard-working families achieve the American dream. Democrat Christine Jennings will bring her fiscal discipline to Congress to fight for a balanced budget and for a more responsible government. As a banker and community leader for over  years, Christine Jennings has the experience to clean up the mess in Washington. I'm Christine Jennings and I approve this message.\",\n          \" About six and a half years ago, I was followed when I stepped out of the car. This man I'd never seen before threatened me and tried to kidnap me, and he had me at knife point. Thankfully, we were able to get away from him. When Michael Guest took my case, we were so thankful. He worked days and nights. He fought so hard for me and justice prevailed, and I believed that he would fight for the people here the same way. I'm Michael Guest, and I approve this message.\",\n          \" There's only one candidate for governor backed by the Illinois Federation of Teachers and the Illinois Education Association. Only one candidate supported by the nearly , members of the Illinois AFL-CIO. There's only one endorsed by both Planned Parenthood and the state's largest pro-choice PAC. And he's the one supported by Senators Dick Durbin and Tammy Duckworth, too. They all know it's J.B. Pritzker who will beat Bruce Rauner and get big things done for Illinois.\"\n        ],\n        \"semantic_type\": \"\",\n        \"description\": \"\"\n      }\n    },\n    {\n      \"column\": \"source\",\n      \"properties\": {\n        \"dtype\": \"category\",\n        \"num_unique_values\": 2,\n        \"samples\": [\n          \"Democratic\",\n          \"Republican\"\n        ],\n        \"semantic_type\": \"\",\n        \"description\": \"\"\n      }\n    },\n    {\n      \"column\": \"is_energy\",\n      \"properties\": {\n        \"dtype\": \"boolean\",\n        \"num_unique_values\": 2,\n        \"samples\": [\n          true,\n          false\n        ],\n        \"semantic_type\": \"\",\n        \"description\": \"\"\n      }\n    },\n    {\n      \"column\": \"source_indicator\",\n      \"properties\": {\n        \"dtype\": \"number\",\n        \"std\": 0,\n        \"min\": 0,\n        \"max\": 1,\n        \"num_unique_values\": 2,\n        \"samples\": [\n          0,\n          1\n        ],\n        \"semantic_type\": \"\",\n        \"description\": \"\"\n      }\n    }\n  ]\n}"
            }
          },
          "metadata": {},
          "execution_count": 9
        }
      ]
    },
    {
      "cell_type": "code",
      "source": [
        "merged_df_vtm = data.merge(vtm_topics, left_index=True, right_index=True)\n",
        "merged_df_eatm2 = data.merge(eatm2_topic, left_index=True, right_index=True)\n"
      ],
      "metadata": {
        "id": "GVUdDz1KZxte"
      },
      "execution_count": 10,
      "outputs": []
    },
    {
      "cell_type": "code",
      "source": [
        "# Sampling\n",
        "energy_true_sample_2 = merged_df_eatm2[merged_df_eatm2['is_energy'] == True].sample(n=700, random_state=1)\n",
        "energy_false_sample_2 = merged_df_eatm2[merged_df_eatm2['is_energy'] == False].sample(n=700, random_state=1)\n",
        "final_eatm2 = pd.concat([energy_true_sample_2, energy_false_sample_2])"
      ],
      "metadata": {
        "id": "iWmUZMU-aLIK"
      },
      "execution_count": 11,
      "outputs": []
    },
    {
      "cell_type": "code",
      "source": [
        "# Sampling\n",
        "energy_true_sample_1 = merged_df_vtm[merged_df_vtm['is_energy'] == True].sample(n=700, random_state=1)\n",
        "energy_false_sample_1 = merged_df_vtm[merged_df_vtm['is_energy'] == False].sample(n=700, random_state=1)\n",
        "final_vtm = pd.concat([energy_true_sample_1, energy_false_sample_1])"
      ],
      "metadata": {
        "id": "aI4Z12ZoaEwT"
      },
      "execution_count": 12,
      "outputs": []
    },
    {
      "cell_type": "code",
      "source": [
        "final_vtm['combine1521'] = final_vtm['21'] + final_vtm['15']"
      ],
      "metadata": {
        "id": "Yg1lGzuTakvO"
      },
      "execution_count": 13,
      "outputs": []
    },
    {
      "cell_type": "code",
      "source": [
        "baseline_prob = 0.5\n"
      ],
      "metadata": {
        "id": "7FZOxcFJMRNA"
      },
      "execution_count": 14,
      "outputs": []
    },
    {
      "cell_type": "code",
      "source": [
        "def adjust_probability(row, baseline_prob=0.5, seed=None):\n",
        "    if row['is_energy']:\n",
        "        noise = np.random.uniform(0, 0.1)\n",
        "        adjusted_prob = min(baseline_prob + 0.2 + noise, 1)\n",
        "        return np.random.binomial(1, adjusted_prob)\n",
        "    else:\n",
        "        return np.random.binomial(1, baseline_prob)\n",
        "\n",
        "# Initialize oucomes with a fixed seed for reproducibility\n",
        "np.random.seed(100)\n",
        "final_vtm['outcome'] = np.random.binomial(1, baseline_prob, size=len(final_vtm))\n",
        "final_eatm2['outcome']=np.random.binomial(1, baseline_prob, size=len(final_eatm2))\n",
        "final_vtm['outcome'] = final_vtm.apply(adjust_probability, axis=1)\n",
        "final_eatm2['outcome'] = final_eatm2.apply(adjust_probability, axis=1)\n",
        "\n"
      ],
      "metadata": {
        "id": "JuPWU3lqMLxh"
      },
      "execution_count": 15,
      "outputs": []
    },
    {
      "cell_type": "code",
      "source": [
        "X_2 = final_eatm2[['binary 28', 'source_indicator']]\n",
        "y_2 = final_eatm2['outcome']\n",
        "X_2 = sm.add_constant(X_2)\n",
        "model_eatm2 = sm.OLS(y_2, X_2).fit(cov_type='HC3')\n",
        "print(model_eatm2.summary())"
      ],
      "metadata": {
        "id": "BT-pxeB3Y5CT",
        "colab": {
          "base_uri": "https://localhost:8080/"
        },
        "outputId": "e45afb35-0ec5-4d73-c357-ba0d8f2c8884"
      },
      "execution_count": 16,
      "outputs": [
        {
          "output_type": "stream",
          "name": "stdout",
          "text": [
            "                            OLS Regression Results                            \n",
            "==============================================================================\n",
            "Dep. Variable:                outcome   R-squared:                       0.025\n",
            "Model:                            OLS   Adj. R-squared:                  0.024\n",
            "Method:                 Least Squares   F-statistic:                     19.72\n",
            "Date:                Wed, 22 May 2024   Prob (F-statistic):           3.59e-09\n",
            "Time:                        13:51:41   Log-Likelihood:                -956.42\n",
            "No. Observations:                1400   AIC:                             1919.\n",
            "Df Residuals:                    1397   BIC:                             1935.\n",
            "Df Model:                           2                                         \n",
            "Covariance Type:                  HC3                                         \n",
            "====================================================================================\n",
            "                       coef    std err          z      P>|z|      [0.025      0.975]\n",
            "------------------------------------------------------------------------------------\n",
            "const                0.5976      0.018     32.643      0.000       0.562       0.634\n",
            "binary 28            0.1701      0.028      6.057      0.000       0.115       0.225\n",
            "source_indicator    -0.0457      0.026     -1.740      0.082      -0.097       0.006\n",
            "==============================================================================\n",
            "Omnibus:                     6790.614   Durbin-Watson:                   1.893\n",
            "Prob(Omnibus):                  0.000   Jarque-Bera (JB):              215.867\n",
            "Skew:                          -0.472   Prob(JB):                     1.33e-47\n",
            "Kurtosis:                       1.324   Cond. No.                         2.79\n",
            "==============================================================================\n",
            "\n",
            "Notes:\n",
            "[1] Standard Errors are heteroscedasticity robust (HC3)\n"
          ]
        }
      ]
    },
    {
      "cell_type": "code",
      "source": [
        "vtm_X_2 = final_vtm[['binary 15', 'source_indicator']]\n",
        "vtm_y_2 = final_vtm['outcome']\n",
        "vX_2 = sm.add_constant(vtm_X_2)\n",
        "model_vtm_2 = sm.OLS(vtm_y_2, vX_2).fit(cov_type='HC3')\n",
        "print(model_vtm_2.summary())"
      ],
      "metadata": {
        "id": "jp66_obgaJrl",
        "colab": {
          "base_uri": "https://localhost:8080/"
        },
        "outputId": "c9583c22-50d7-4598-a118-64b71fc09edf"
      },
      "execution_count": 17,
      "outputs": [
        {
          "output_type": "stream",
          "name": "stdout",
          "text": [
            "                            OLS Regression Results                            \n",
            "==============================================================================\n",
            "Dep. Variable:                outcome   R-squared:                       0.004\n",
            "Model:                            OLS   Adj. R-squared:                  0.002\n",
            "Method:                 Least Squares   F-statistic:                     2.627\n",
            "Date:                Wed, 22 May 2024   Prob (F-statistic):             0.0726\n",
            "Time:                        13:51:41   Log-Likelihood:                -983.24\n",
            "No. Observations:                1400   AIC:                             1972.\n",
            "Df Residuals:                    1397   BIC:                             1988.\n",
            "Df Model:                           2                                         \n",
            "Covariance Type:                  HC3                                         \n",
            "====================================================================================\n",
            "                       coef    std err          z      P>|z|      [0.025      0.975]\n",
            "------------------------------------------------------------------------------------\n",
            "const                0.6183      0.018     34.977      0.000       0.584       0.653\n",
            "binary 15            0.0453      0.041      1.100      0.271      -0.035       0.126\n",
            "source_indicator    -0.0511      0.027     -1.896      0.058      -0.104       0.002\n",
            "==============================================================================\n",
            "Omnibus:                     5898.001   Durbin-Watson:                   1.838\n",
            "Prob(Omnibus):                  0.000   Jarque-Bera (JB):              231.831\n",
            "Skew:                          -0.418   Prob(JB):                     4.55e-51\n",
            "Kurtosis:                       1.190   Cond. No.                         3.59\n",
            "==============================================================================\n",
            "\n",
            "Notes:\n",
            "[1] Standard Errors are heteroscedasticity robust (HC3)\n"
          ]
        }
      ]
    },
    {
      "cell_type": "code",
      "source": [
        "vtm_X = final_vtm[['binary 15 and 21','source_indicator']]\n",
        "vtm_y = final_vtm['outcome']\n",
        "vX = sm.add_constant(vtm_X)\n",
        "model_vtm = sm.OLS(vtm_y, vX).fit(cov_type='HC3')\n",
        "print(model_vtm.summary())"
      ],
      "metadata": {
        "colab": {
          "base_uri": "https://localhost:8080/"
        },
        "id": "iAqBNBVwa6RM",
        "outputId": "09f89655-1e1b-48b5-e64e-633a78c4b6b3"
      },
      "execution_count": 18,
      "outputs": [
        {
          "output_type": "stream",
          "name": "stdout",
          "text": [
            "                            OLS Regression Results                            \n",
            "==============================================================================\n",
            "Dep. Variable:                outcome   R-squared:                       0.004\n",
            "Model:                            OLS   Adj. R-squared:                  0.002\n",
            "Method:                 Least Squares   F-statistic:                     2.748\n",
            "Date:                Wed, 22 May 2024   Prob (F-statistic):             0.0644\n",
            "Time:                        13:51:41   Log-Likelihood:                -983.09\n",
            "No. Observations:                1400   AIC:                             1972.\n",
            "Df Residuals:                    1397   BIC:                             1988.\n",
            "Df Model:                           2                                         \n",
            "Covariance Type:                  HC3                                         \n",
            "====================================================================================\n",
            "                       coef    std err          z      P>|z|      [0.025      0.975]\n",
            "------------------------------------------------------------------------------------\n",
            "const                0.6204      0.017     36.417      0.000       0.587       0.654\n",
            "binary 15 and 21     0.0656      0.053      1.230      0.219      -0.039       0.170\n",
            "source_indicator    -0.0541      0.027     -2.017      0.044      -0.107      -0.002\n",
            "==============================================================================\n",
            "Omnibus:                     5902.298   Durbin-Watson:                   1.835\n",
            "Prob(Omnibus):                  0.000   Jarque-Bera (JB):              231.657\n",
            "Skew:                          -0.418   Prob(JB):                     4.97e-51\n",
            "Kurtosis:                       1.191   Cond. No.                         4.58\n",
            "==============================================================================\n",
            "\n",
            "Notes:\n",
            "[1] Standard Errors are heteroscedasticity robust (HC3)\n"
          ]
        }
      ]
    },
    {
      "cell_type": "code",
      "source": [],
      "metadata": {
        "id": "-mZMxPUPuwXA"
      },
      "execution_count": 18,
      "outputs": []
    }
  ]
}